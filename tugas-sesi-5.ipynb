{
 "cells": [
  {
   "cell_type": "markdown",
   "metadata": {},
   "source": [
    "# Biodata Collection Program\n",
    "\n",
    "This notebook collects and displays user biodata with input validation.\n",
    "\n",
    "- Collects name, gender, age, and address\n",
    "- Validates all inputs\n",
    "- Displays formatted biodata when all inputs are valid"
   ]
  },
  {
   "cell_type": "code",
   "execution_count": 3,
   "metadata": {},
   "outputs": [],
   "source": [
    "def get_validated_input(prompt, validator_func=None, error_message=None):\n",
    "    \"\"\"Get user input with optional validation\"\"\"\n",
    "    while True:\n",
    "        value = input(prompt)\n",
    "        if validator_func is None or validator_func(value):\n",
    "            return value\n",
    "        print(error_message)\n",
    "\n",
    "def validate_not_empty(value):\n",
    "    \"\"\"Validate that input is not empty\"\"\"\n",
    "    return value.strip() != \"\"\n",
    "\n",
    "def validate_numeric(value):\n",
    "    \"\"\"Validate that input is numeric\"\"\"\n",
    "    return value.isdigit()\n",
    "\n",
    "def validate_gender(value):\n",
    "    \"\"\"Validate gender input\"\"\"\n",
    "    return value.upper() in [\"L\", \"P\"]\n",
    "\n",
    "def format_gender(gender_code):\n",
    "    \"\"\"Convert gender code to full text\"\"\"\n",
    "    gender_code = gender_code.upper()\n",
    "    if gender_code == \"L\":\n",
    "        return \"Laki-laki\"\n",
    "    elif gender_code == \"P\":\n",
    "        return \"Perempuan\"\n",
    "    return \"Tidak diketahui\""
   ]
  },
  {
   "cell_type": "code",
   "execution_count": 4,
   "metadata": {},
   "outputs": [],
   "source": [
    "# Collect user input with validation\n",
    "nama = get_validated_input(\n",
    "    \"Masukkan nama Anda: \",\n",
    "    validator_func=validate_not_empty,\n",
    "    error_message=\"Nama tidak boleh kosong. Silakan coba lagi.\"\n",
    ")\n",
    "\n",
    "kelamin_kode = get_validated_input(\n",
    "    \"Masukkan jenis kelamin Anda (L/P): \",\n",
    "    validator_func=validate_gender,\n",
    "    error_message=\"Jenis kelamin harus L atau P. Silakan coba lagi.\"\n",
    ")\n",
    "kelamin = format_gender(kelamin_kode)\n",
    "\n",
    "umur = get_validated_input(\n",
    "    \"Masukkan umur Anda: \",\n",
    "    validator_func=validate_numeric,\n",
    "    error_message=\"Umur harus berupa angka. Silakan coba lagi.\"\n",
    ")\n",
    "\n",
    "alamat = get_validated_input(\n",
    "    \"Masukkan alamat Anda: \",\n",
    "    validator_func=validate_not_empty,\n",
    "    error_message=\"Alamat tidak boleh kosong. Silakan coba lagi.\"\n",
    ")"
   ]
  },
  {
   "cell_type": "code",
   "execution_count": null,
   "metadata": {},
   "outputs": [
    {
     "data": {
      "text/html": [
       "\n",
       "<div style=\"background-color:#f0f0f0; padding:15px; border-radius:10px; width:400px;\">\n",
       "    <h2 style=\"color:#333; text-align:center;\">Biodata</h2>\n",
       "    <hr>\n",
       "    <p><b>Nama:</b> hasan</p>\n",
       "    <p><b>Jenis Kelamin:</b> Laki-laki</p>\n",
       "    <p><b>Umur:</b> 34 tahun</p>\n",
       "    <p><b>Alamat:</b> sukabumi</p>\n",
       "</div>\n"
      ],
      "text/plain": [
       "<IPython.core.display.HTML object>"
      ]
     },
     "metadata": {},
     "output_type": "display_data"
    },
    {
     "name": "stdout",
     "output_type": "stream",
     "text": [
      "\n",
      "Biodata Anda:\n",
      "Nama: hasan\n",
      "Jenis Kelamin: Laki-laki\n",
      "Umur: 34 tahun\n",
      "Alamat: sukabumi\n"
     ]
    }
   ],
   "source": [
    "# Format and display biodata\n",
    "from IPython.display import HTML, display\n",
    "\n",
    "biodata_html = f\"\"\"\n",
    "<div style=\"background-color:#f0f0f0; padding:15px; border-radius:10px; width:400px;\">\n",
    "    <h2 style=\"color:#333; text-align:center;\">Biodata</h2>\n",
    "    <hr>\n",
    "    <p><b>Nama:</b> {nama}</p>\n",
    "    <p><b>Jenis Kelamin:</b> {kelamin}</p>\n",
    "    <p><b>Umur:</b> {umur} tahun</p>\n",
    "    <p><b>Alamat:</b> {alamat}</p>\n",
    "</div>\n",
    "\"\"\"\n",
    "\n",
    "display(HTML(biodata_html))\n",
    "\n",
    "# Plain text output\n",
    "print(\"\\nBiodata Anda:\")\n",
    "print(f\"Nama: {nama}\")\n",
    "print(f\"Jenis Kelamin: {kelamin}\")\n",
    "print(f\"Umur: {umur} tahun\")\n",
    "print(f\"Alamat: {alamat}\")"
   ]
  }
 ],
 "metadata": {
  "kernelspec": {
   "display_name": "base",
   "language": "python",
   "name": "python3"
  },
  "language_info": {
   "codemirror_mode": {
    "name": "ipython",
    "version": 3
   },
   "file_extension": ".py",
   "mimetype": "text/x-python",
   "name": "python",
   "nbconvert_exporter": "python",
   "pygments_lexer": "ipython3",
   "version": "3.11.7"
  }
 },
 "nbformat": 4,
 "nbformat_minor": 2
}
